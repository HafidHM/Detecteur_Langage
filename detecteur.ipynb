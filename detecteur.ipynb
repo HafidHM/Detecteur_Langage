{
 "cells": [
  {
   "cell_type": "raw",
   "metadata": {
    "scrolled": true
   },
   "source": [
    "#Introduction :\n",
    "\n",
    "Dans ce Projet on a réalisé un programme qui permet de déterminer la langue d’un mot donné avec deux modèle  différent soi on utilisant un modèle Unigram ou un modèle Bigramme.\n",
    "\n",
    "\n"
   ]
  },
  {
   "cell_type": "raw",
   "metadata": {},
   "source": [
    "#Reponses aux questions:\n",
    "\n",
    "Q1) On se base sur l'hypothèse qu'on connait la langue dès le debut, c'est à dire qu'on calcule la probabilité d'apparition d'une lettre qui compose un mot cherché w, on utilisant un corpus qui présente en general un dictionnaire pour une langue.\n",
    "\n",
    "               - P(w|l): la probabilité d'un mot sachant la langue l.\n",
    "               - P(l): la probabilité d'une langue.\n",
    "               - P(w): la probabilité d'un mot.\n",
    "\n",
    "Q2) dans cette relation on doit deja avoir et calculer p(w|l)\n",
    "  \n",
    "Q3 - Q10) On a implementer deux versions  pour la foncion Det_long() Determiner la langue d'un mot:\n",
    "             - Det_langue_Unigram(): determine la langue d'un mot on se basant sur un modele Unigram.\n",
    "             - Det_langue_Bigramme(): determine la langue d'un mot on se basant sur un modele Bigramme.\n",
    "             \n",
    "    \n",
    "\n",
    "\n",
    "\n",
    "\n"
   ]
  },
  {
   "cell_type": "markdown",
   "metadata": {},
   "source": [
    "# # Modèle  Unigram\n",
    "\n"
   ]
  },
  {
   "cell_type": "code",
   "execution_count": null,
   "metadata": {},
   "outputs": [],
   "source": [
    "def lireCorpus(fichier):\n",
    "    f = open(fichier,'r')\n",
    "    data = f.read()\n",
    "    f.close() \n",
    "    return data"
   ]
  },
  {
   "cell_type": "raw",
   "metadata": {},
   "source": [
    "La fonction InitTableOcc() permet d' initialisé et retourner un dictionnaire avec une clé composée  d'une seul lettre."
   ]
  },
  {
   "cell_type": "code",
   "execution_count": 1,
   "metadata": {},
   "outputs": [],
   "source": [
    "def InitTableOcc(mot):\n",
    "    Occ = {}\n",
    "    for c in mot:\n",
    "        if c not in Occ:\n",
    "            Occ[c] = 0\n",
    "    return Occ"
   ]
  },
  {
   "cell_type": "raw",
   "metadata": {},
   "source": [
    "La fonction InitTableOcc() permet d' initialisé et retourner un dictionnaire avec une clé composée  d'une seul lettre."
   ]
  },
  {
   "cell_type": "code",
   "execution_count": null,
   "metadata": {},
   "outputs": [],
   "source": [
    "def ListMots(data):\n",
    "    listMots = data.split('\" \"|\\n')\n",
    "    return listMots"
   ]
  },
  {
   "cell_type": "raw",
   "metadata": {},
   "source": [
    "La fonction ListMots() prend en paramètre le contenu d'un fichier donnée. Elle permet de supprimer les espaces et le retour à la ligne dans un texte. Elle retourne le résultat dans  une liste de mot."
   ]
  },
  {
   "cell_type": "code",
   "execution_count": null,
   "metadata": {},
   "outputs": [],
   "source": [
    "def OccurenceC(data,mot):\n",
    "    Occ = {}\n",
    "    Occ = InitTableOcc(mot)\n",
    "    for c in data:\n",
    "        if c in Occ:\n",
    "            Occ[c] += 1\n",
    "    return  Occ"
   ]
  },
  {
   "cell_type": "raw",
   "metadata": {},
   "source": [
    "La fonction OccurenceC() permet de calculer les occurences des lettre d'un mot dans un corpus donné.\n",
    "Elle retoune un tableau des occurences pour chaque lettre du mot."
   ]
  },
  {
   "cell_type": "code",
   "execution_count": null,
   "metadata": {},
   "outputs": [],
   "source": [
    "def TotalOccC(data):\n",
    "    listMots = data.split(' ')\n",
    "    count=0\n",
    "    for l in listMots:\n",
    "        for c in l:\n",
    "            count +=1\n",
    "    return  count"
   ]
  },
  {
   "cell_type": "raw",
   "metadata": {},
   "source": [
    "La fonction TotalOccC() calcule le nombre totale des caractères dans un corpus donné."
   ]
  },
  {
   "cell_type": "code",
   "execution_count": null,
   "metadata": {},
   "outputs": [],
   "source": [
    "def CalculeProbaLettres(Occ,mot,data):\n",
    "    Proba = {}\n",
    "    Proba = InitTableOcc(mot)\n",
    "    p = 1\n",
    "    for cle, value in Occ.items():\n",
    "        if cle in Proba:\n",
    "             Proba[cle] = (value+1)/(TotalOccC(data) + 26)\n",
    "    for c in mot:\n",
    "        p = p * Proba.get(c,0)\n",
    "    return p"
   ]
  },
  {
   "cell_type": "raw",
   "metadata": {},
   "source": [
    "La fonction CalculeProbaLettres() calcule la probabilité des lettres d'un mot dans un corpus donné."
   ]
  },
  {
   "cell_type": "code",
   "execution_count": null,
   "metadata": {},
   "outputs": [],
   "source": [
    "def Det_langue_Unigram(mot):\n",
    "    lang = {\"EN\" : 0, \"FR\" : 0, \"IT\" : 0, \"GE\" : 0, \"SP\" : 0,}\n",
    "    Occ = {}\n",
    "    data = []\n",
    "    for l in lang:\n",
    "        data = lireCorpus(l)\n",
    "        Occ =  OccurenceC(data,mot)\n",
    "        lang[l] = CalculeProbaLettres(Occ,mot,data)\n",
    "    return  max(lang, key=lang.get)"
   ]
  },
  {
   "cell_type": "raw",
   "metadata": {},
   "source": [
    "La fonction Det_langue_Unigram() permet de déterminer la langue d'un mot selon un modèle Unigram."
   ]
  },
  {
   "cell_type": "code",
   "execution_count": null,
   "metadata": {},
   "outputs": [],
   "source": [
    "def TauxErreur(fichier):\n",
    "        countF = 0\n",
    "        countV = 0\n",
    "        with open(fichier) as f:\n",
    "            for line in f:\n",
    "                liste = line.split()\n",
    "                l = Det_langue_Unigram(liste[0])\n",
    "                if l == liste[1]:\n",
    "                    print(\"Correct\")\n",
    "                    countV +=1\n",
    "                else:\n",
    "                    print(\"Faux\")\n",
    "                    countF +=1\n",
    "        return 1-(countF/(countV+countF))"
   ]
  },
  {
   "cell_type": "raw",
   "metadata": {},
   "source": [
    "La fonction TauxErreur() permet d'évaluer les performances du système en utilisant un fichier de test."
   ]
  },
  {
   "cell_type": "markdown",
   "metadata": {},
   "source": [
    "# Main"
   ]
  },
  {
   "cell_type": "code",
   "execution_count": 7,
   "metadata": {},
   "outputs": [
    {
     "name": "stdout",
     "output_type": "stream",
     "text": [
      "Donnez un mot: terme\n",
      "La langue de terme est: FR\n"
     ]
    }
   ],
   "source": [
    "import math\n",
    "\n",
    "def lireCorpus(fichier):\n",
    "    f = open(fichier,'r')\n",
    "    data = f.read()\n",
    "    f.close() \n",
    "    return data\n",
    "\n",
    "def InitTableOcc(mot):\n",
    "    Occ = {}\n",
    "    for c in mot:\n",
    "        if c not in Occ:\n",
    "            Occ[c] = 0\n",
    "    return Occ\n",
    "\n",
    "\n",
    "def OccurenceC(data,mot):\n",
    "    Occ = {}\n",
    "    Occ = InitTableOcc(mot)\n",
    "    for c in data:\n",
    "        if c in Occ:\n",
    "            Occ[c] += 1\n",
    "    return  Occ\n",
    "\n",
    "def TotalOccC(data):\n",
    "    listMots = data.split(' ')\n",
    "    count=0\n",
    "    for l in listMots:\n",
    "        for c in l:\n",
    "            count +=1\n",
    "    return  count\n",
    "\n",
    "def CalculeProbaLettres(Occ,mot,data):\n",
    "    Proba = {}\n",
    "    Proba = InitTableOcc(mot)\n",
    "    p = 1\n",
    "    for cle, value in Occ.items():\n",
    "        if cle in Proba:\n",
    "             Proba[cle] = (value+1)/(TotalOccC(data) + 26)\n",
    "    for c in mot:\n",
    "        p = p * Proba.get(c,0)\n",
    "    return p\n",
    "\n",
    "def Det_langue(mot):\n",
    "    lang = {\"EN\" : 0, \"FR\" : 0, \"IT\" : 0, \"GE\" : 0, \"SP\" : 0,}\n",
    "    Occ = {}\n",
    "    data = []\n",
    "    for l in lang:\n",
    "        data = lireCorpus(l)\n",
    "        Occ =  OccurenceC(data,mot)\n",
    "        lang[l] = CalculeProbaLettres(Occ,mot,data)\n",
    "    return  max(lang, key=lang.get) \n",
    "\n",
    "def TauxErreur(fichier):\n",
    "        countF = 0\n",
    "        countV = 0\n",
    "        with open(fichier) as f:\n",
    "            for line in f:\n",
    "                liste = line.split()\n",
    "                l = Det_langue(liste[0])\n",
    "                if l == liste[1]:\n",
    "                    print(\"Correct\")\n",
    "                    countV +=1\n",
    "                else:\n",
    "                    print(\"Faux\")\n",
    "                    countF +=1\n",
    "        return 1-(countF/(countV+countF))\n",
    "   \n",
    "if __name__ == '__main__': \n",
    "    pass\n",
    "    mot = input(\"Donnez un mot: \")\n",
    "   \n",
    "    print(\"La langue de \"+mot+\" est: \"+ Det_langue(mot))\n",
    "    #print(\"Taux d'erreur: \"+str(TauxErreur(\"TestFile\")))\n"
   ]
  },
  {
   "cell_type": "raw",
   "metadata": {},
   "source": [
    "Le programme principale main() permet de calculer la probabilité qu'un mot peut appartenir à une langue à travers son corpus.\n",
    "Le programme utilise les fonctions ci-dessus pour prendre la décision."
   ]
  },
  {
   "cell_type": "markdown",
   "metadata": {},
   "source": [
    "# # Modèle Bigramme\n",
    "\n"
   ]
  },
  {
   "cell_type": "code",
   "execution_count": null,
   "metadata": {},
   "outputs": [],
   "source": [
    "def InitTableOcc(mot):\n",
    "    Occ = {}\n",
    "    lenght = len(mot)-1\n",
    "    for i in range(0 ,lenght):\n",
    "        SubStr=mot[i: i+2] \n",
    "        if SubStr not in Occ:\n",
    "            Occ[SubStr] = 1 \n",
    "    return Occ"
   ]
  },
  {
   "cell_type": "markdown",
   "metadata": {},
   "source": [
    "La fonction InitTableOcc() permet d'initialisé et retouner un dictionnaire avec une clé composée deux lettres."
   ]
  },
  {
   "cell_type": "code",
   "execution_count": null,
   "metadata": {},
   "outputs": [],
   "source": [
    "\n",
    "def OccurenceC(data,mot):\n",
    "    Occ = {}\n",
    "    Occ = InitTableOcc(mot)\n",
    "    lenght = len(data) -1\n",
    "    for i in range(0 ,lenght): \n",
    "        SubStr=data[i: i+2] \n",
    "        if SubStr in Occ: \n",
    "            Occ[SubStr] = Occ.get(SubStr,0)+1\n",
    "    return Occ"
   ]
  },
  {
   "cell_type": "markdown",
   "metadata": {},
   "source": [
    "La fonction OccurenceC() permet de calculer les occurrences de deux lettres consécutive d'un mot dans un corpus donne.\n",
    "Elle retourne un tableau des occurrences pour chaque deux lettre d'un mot donné."
   ]
  },
  {
   "cell_type": "code",
   "execution_count": null,
   "metadata": {},
   "outputs": [],
   "source": [
    "def CalculeProbaLettre(Occ,data,preced,suiv):\n",
    "    p = 1\n",
    "    count = 0\n",
    "    liste = ListeMots(data)\n",
    "    for l in liste:\n",
    "        for i in range(0 ,len(l)-1):\n",
    "            if l[i] == preced:\n",
    "                if l[i] != suiv:\n",
    "                    count += 1\n",
    "    for key, value in Occ.items():\n",
    "        if key[1] == suiv:\n",
    "            if key[0] == preced:                 \n",
    "                p = (value+1)/(count + 26)\n",
    "    return p"
   ]
  },
  {
   "cell_type": "raw",
   "metadata": {},
   "source": [
    "La fonction CalculeProbaLettre() calcule la probabilité de deux lettres consécutive d'un mot dans un corpus donné."
   ]
  },
  {
   "cell_type": "code",
   "execution_count": null,
   "metadata": {},
   "outputs": [],
   "source": [
    "def CalculePw1(mot,data):\n",
    "    listMots = data.split()\n",
    "    count=0\n",
    "    p = 1\n",
    "    for l in listMots:\n",
    "        for c in l:\n",
    "            if mot[0] == c:\n",
    "                count +=1\n",
    "    p = (count+1)/(TotalOccC(data) + 26)\n",
    "    return p"
   ]
  },
  {
   "cell_type": "raw",
   "metadata": {},
   "source": [
    "La fonction CalculePw1() permet de calculer la probabilité du premier terme w1 d'un mot donné. "
   ]
  },
  {
   "cell_type": "code",
   "execution_count": null,
   "metadata": {},
   "outputs": [],
   "source": [
    "def Det_langue_Bigramme(mot):\n",
    "    lang = {\"EN\" : 0, \"FR\" : 0, \"IT\" : 0, \"GE\" : 0, \"SP\" : 0,}\n",
    "    Occ = {}\n",
    "    data = []\n",
    "    p=1\n",
    "    for l in lang:\n",
    "        data = lireCorpus(l)\n",
    "        Pw1 = CalculePw1(mot,data)\n",
    "        Occ  = OccurenceC(data,mot)\n",
    "        \n",
    "        for key, value in Occ.items():\n",
    "            p = p * CalculeProbaLettre(Occ,data,key[0],key[1])\n",
    "        p = p*Pw1\n",
    "        lang[l]=p\n",
    "    return  max(lang, key=lang.get)"
   ]
  },
  {
   "cell_type": "raw",
   "metadata": {},
   "source": [
    "La fonction Det_langue_Bigramme() permet de déterminer la langue d'un mot donné  selon un modèle Bigramme."
   ]
  },
  {
   "cell_type": "markdown",
   "metadata": {},
   "source": [
    "# Main"
   ]
  },
  {
   "cell_type": "code",
   "execution_count": 9,
   "metadata": {},
   "outputs": [
    {
     "name": "stdout",
     "output_type": "stream",
     "text": [
      "Donnez un mot: BIRTHDAY\n",
      "La langue de BIRTHDAY est: EN\n"
     ]
    }
   ],
   "source": [
    "import math\n",
    "\n",
    "def lireCorpus(fichier):\n",
    "    f = open(fichier,'r')\n",
    "    data = f.read()\n",
    "    f.close() \n",
    "    return data\n",
    "\n",
    "def ListeMots(data):\n",
    "    listMots = data.split()\n",
    "    return listMots\n",
    "\n",
    "def InitTableOcc(mot):\n",
    "    Occ = {}\n",
    "    lenght = len(mot)-1\n",
    "    for i in range(0 ,lenght):\n",
    "        SubStr=mot[i: i+2] \n",
    "        if SubStr not in Occ:\n",
    "            Occ[SubStr] = 1 \n",
    "    return Occ\n",
    "\n",
    "def OccurenceC(data,mot):\n",
    "    Occ = {}\n",
    "    Occ = InitTableOcc(mot)\n",
    "    lenght = len(data) -1\n",
    "    for i in range(0 ,lenght): \n",
    "        SubStr=data[i: i+2] \n",
    "        if SubStr in Occ: \n",
    "            Occ[SubStr] = Occ.get(SubStr,0)+1\n",
    "    return Occ\n",
    "\n",
    "\n",
    "def CalculeProbaLettre(Occ,data,preced,suiv):\n",
    "    p = 1\n",
    "    count = 0\n",
    "    liste = ListeMots(data)\n",
    "    for l in liste:\n",
    "        for i in range(0 ,len(l)-1):\n",
    "            if l[i] == preced:\n",
    "                if l[i] != suiv:\n",
    "                    count += 1\n",
    "    for key, value in Occ.items():\n",
    "        if key[1] == suiv:\n",
    "            if key[0] == preced:                 \n",
    "                p = (value+1)/(count + 26)\n",
    "    return p\n",
    "\n",
    "def TotalOccC(data):\n",
    "    listMots = data.split()\n",
    "    count=0\n",
    "    for l in listMots:\n",
    "        for c in l:\n",
    "             count +=1\n",
    "    return  count\n",
    "\n",
    "def CalculePw1(mot,data):\n",
    "    listMots = data.split()\n",
    "    count=0\n",
    "    p = 1\n",
    "    for l in listMots:\n",
    "        for c in l:\n",
    "            if mot[0] == c:\n",
    "                count +=1\n",
    "    p = (count+1)/(TotalOccC(data) + 26)\n",
    "    return p\n",
    "\n",
    "\n",
    "def Det_langue_Bigramme(mot):\n",
    "    lang = {\"EN\" : 0, \"FR\" : 0, \"IT\" : 0, \"GE\" : 0, \"SP\" : 0,}\n",
    "    Occ = {}\n",
    "    data = []\n",
    "    p=1\n",
    "    for l in lang:\n",
    "        data = lireCorpus(l)\n",
    "        Pw1 = CalculePw1(mot,data)\n",
    "        Occ  = OccurenceC(data,mot)\n",
    "        \n",
    "        for key, value in Occ.items():\n",
    "            p = p * CalculeProbaLettre(Occ,data,key[0],key[1])\n",
    "        p = p*Pw1\n",
    "        lang[l]=p\n",
    "    return  max(lang, key=lang.get)\n",
    "\n",
    "def TauxErreur(fichier):\n",
    "        countF = 0\n",
    "        countV = 0\n",
    "        with open(fichier) as f:\n",
    "            for line in f:\n",
    "                liste = line.split()\n",
    "                l = Det_langue_Bigramme(liste[0])\n",
    "                if l == liste[1]:\n",
    "                    print(\"Correct\")\n",
    "                    countV +=1\n",
    "                else:\n",
    "                    print(\"Faux\")\n",
    "                    countF +=1\n",
    "        return 1-(countF/(countV+countF)) \n",
    "\n",
    "\n",
    "if __name__ == '__main__': \n",
    "    pass\n",
    "    mot = input(\"Donnez un mot: \")\n",
    "    print(\"La langue de \"+mot+\" est: \"+ Det_langue(mot))\n",
    "    #print(\"Taux d'erreur: \"+str(TauxErreur(\"TestFile\")))"
   ]
  },
  {
   "cell_type": "code",
   "execution_count": null,
   "metadata": {},
   "outputs": [],
   "source": []
  }
 ],
 "metadata": {
  "kernelspec": {
   "display_name": "Python 3",
   "language": "python",
   "name": "python3"
  },
  "language_info": {
   "codemirror_mode": {
    "name": "ipython",
    "version": 3
   },
   "file_extension": ".py",
   "mimetype": "text/x-python",
   "name": "python",
   "nbconvert_exporter": "python",
   "pygments_lexer": "ipython3",
   "version": "3.7.3"
  }
 },
 "nbformat": 4,
 "nbformat_minor": 2
}
